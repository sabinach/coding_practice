{
 "cells": [
  {
   "cell_type": "code",
   "execution_count": 1,
   "metadata": {},
   "outputs": [
    {
     "ename": "LoadError",
     "evalue": "syntax: extra token \"Node\" after end of expression",
     "output_type": "error",
     "traceback": [
      "syntax: extra token \"Node\" after end of expression",
      ""
     ]
    }
   ],
   "source": [
    "type Node\n",
    "    value::Number\n",
    "    next::Node\n",
    "    \n",
    "    function Node()\n",
    "        n = new()\n",
    "        n.next = n\n",
    "    end\n",
    "    \n",
    "    function Node(value::Number, next::Node)\n",
    "        new(value, next)\n",
    "    end\n",
    "end"
   ]
  },
  {
   "cell_type": "code",
   "execution_count": 4,
   "metadata": {},
   "outputs": [
    {
     "ename": "LoadError",
     "evalue": "syntax: extra token \"Point\" after end of expression",
     "output_type": "error",
     "traceback": [
      "syntax: extra token \"Point\" after end of expression",
      ""
     ]
    }
   ],
   "source": [
    "type Point{T<:Number} # type of T must be a subtype of Number\n",
    "    x::T\n",
    "    y::T\n",
    "end\n",
    "Point{Float64}(3,4)"
   ]
  },
  {
   "cell_type": "code",
   "execution_count": null,
   "metadata": {},
   "outputs": [],
   "source": []
  }
 ],
 "metadata": {
  "kernelspec": {
   "display_name": "Julia 1.4.2",
   "language": "julia",
   "name": "julia-1.4"
  },
  "language_info": {
   "file_extension": ".jl",
   "mimetype": "application/julia",
   "name": "julia",
   "version": "1.4.2"
  }
 },
 "nbformat": 4,
 "nbformat_minor": 2
}
