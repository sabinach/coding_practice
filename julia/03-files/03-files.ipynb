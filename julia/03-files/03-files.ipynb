{
 "cells": [
  {
   "cell_type": "code",
   "execution_count": 1,
   "metadata": {},
   "outputs": [
    {
     "data": {
      "text/plain": [
       "read (generic function with 43 methods)"
      ]
     },
     "execution_count": 1,
     "metadata": {},
     "output_type": "execute_result"
    }
   ],
   "source": [
    "read"
   ]
  },
  {
   "cell_type": "code",
   "execution_count": 2,
   "metadata": {
    "scrolled": false
   },
   "outputs": [
    {
     "name": "stdout",
     "output_type": "stream",
     "text": [
      "search: \u001b[0m\u001b[1mr\u001b[22m\u001b[0m\u001b[1me\u001b[22m\u001b[0m\u001b[1ma\u001b[22m\u001b[0m\u001b[1md\u001b[22m \u001b[0m\u001b[1mr\u001b[22m\u001b[0m\u001b[1me\u001b[22m\u001b[0m\u001b[1ma\u001b[22m\u001b[0m\u001b[1md\u001b[22m! \u001b[0m\u001b[1mr\u001b[22m\u001b[0m\u001b[1me\u001b[22m\u001b[0m\u001b[1ma\u001b[22m\u001b[0m\u001b[1md\u001b[22mdir \u001b[0m\u001b[1mr\u001b[22m\u001b[0m\u001b[1me\u001b[22m\u001b[0m\u001b[1ma\u001b[22m\u001b[0m\u001b[1md\u001b[22mlink \u001b[0m\u001b[1mr\u001b[22m\u001b[0m\u001b[1me\u001b[22m\u001b[0m\u001b[1ma\u001b[22m\u001b[0m\u001b[1md\u001b[22mline \u001b[0m\u001b[1mr\u001b[22m\u001b[0m\u001b[1me\u001b[22m\u001b[0m\u001b[1ma\u001b[22m\u001b[0m\u001b[1md\u001b[22muntil \u001b[0m\u001b[1mr\u001b[22m\u001b[0m\u001b[1me\u001b[22m\u001b[0m\u001b[1ma\u001b[22m\u001b[0m\u001b[1md\u001b[22mlines \u001b[0m\u001b[1mr\u001b[22m\u001b[0m\u001b[1me\u001b[22m\u001b[0m\u001b[1ma\u001b[22m\u001b[0m\u001b[1md\u001b[22mchomp\n",
      "\n"
     ]
    },
    {
     "data": {
      "text/latex": [
       "\\begin{verbatim}\n",
       "read(io::IO, T)\n",
       "\\end{verbatim}\n",
       "Read a single value of type \\texttt{T} from \\texttt{io}, in canonical binary representation.\n",
       "\n",
       "\\begin{verbatim}\n",
       "read(io::IO, String)\n",
       "\\end{verbatim}\n",
       "Read the entirety of \\texttt{io}, as a \\texttt{String}.\n",
       "\n",
       "\\section{Examples}\n",
       "\\begin{verbatim}\n",
       "julia> io = IOBuffer(\"JuliaLang is a GitHub organization\");\n",
       "\n",
       "julia> read(io, Char)\n",
       "'J': ASCII/Unicode U+004A (category Lu: Letter, uppercase)\n",
       "\n",
       "julia> io = IOBuffer(\"JuliaLang is a GitHub organization\");\n",
       "\n",
       "julia> read(io, String)\n",
       "\"JuliaLang is a GitHub organization\"\n",
       "\\end{verbatim}\n",
       "\\rule{\\textwidth}{1pt}\n",
       "\\begin{verbatim}\n",
       "read(filename::AbstractString, args...)\n",
       "\\end{verbatim}\n",
       "Open a file and read its contents. \\texttt{args} is passed to \\texttt{read}: this is equivalent to \\texttt{open(io->read(io, args...), filename)}.\n",
       "\n",
       "\\begin{verbatim}\n",
       "read(filename::AbstractString, String)\n",
       "\\end{verbatim}\n",
       "Read the entire contents of a file as a string.\n",
       "\n",
       "\\rule{\\textwidth}{1pt}\n",
       "\\begin{verbatim}\n",
       "read(s::IO, nb=typemax(Int))\n",
       "\\end{verbatim}\n",
       "Read at most \\texttt{nb} bytes from \\texttt{s}, returning a \\texttt{Vector\\{UInt8\\}} of the bytes read.\n",
       "\n",
       "\\rule{\\textwidth}{1pt}\n",
       "\\begin{verbatim}\n",
       "read(s::IOStream, nb::Integer; all=true)\n",
       "\\end{verbatim}\n",
       "Read at most \\texttt{nb} bytes from \\texttt{s}, returning a \\texttt{Vector\\{UInt8\\}} of the bytes read.\n",
       "\n",
       "If \\texttt{all} is \\texttt{true} (the default), this function will block repeatedly trying to read all requested bytes, until an error or end-of-file occurs. If \\texttt{all} is \\texttt{false}, at most one \\texttt{read} call is performed, and the amount of data returned is device-dependent. Note that not all stream types support the \\texttt{all} option.\n",
       "\n",
       "\\rule{\\textwidth}{1pt}\n",
       "\\begin{verbatim}\n",
       "read(command::Cmd)\n",
       "\\end{verbatim}\n",
       "Run \\texttt{command} and return the resulting output as an array of bytes.\n",
       "\n",
       "\\rule{\\textwidth}{1pt}\n",
       "\\begin{verbatim}\n",
       "read(command::Cmd, String)\n",
       "\\end{verbatim}\n",
       "Run \\texttt{command} and return the resulting output as a \\texttt{String}.\n",
       "\n"
      ],
      "text/markdown": [
       "```\n",
       "read(io::IO, T)\n",
       "```\n",
       "\n",
       "Read a single value of type `T` from `io`, in canonical binary representation.\n",
       "\n",
       "```\n",
       "read(io::IO, String)\n",
       "```\n",
       "\n",
       "Read the entirety of `io`, as a `String`.\n",
       "\n",
       "# Examples\n",
       "\n",
       "```jldoctest\n",
       "julia> io = IOBuffer(\"JuliaLang is a GitHub organization\");\n",
       "\n",
       "julia> read(io, Char)\n",
       "'J': ASCII/Unicode U+004A (category Lu: Letter, uppercase)\n",
       "\n",
       "julia> io = IOBuffer(\"JuliaLang is a GitHub organization\");\n",
       "\n",
       "julia> read(io, String)\n",
       "\"JuliaLang is a GitHub organization\"\n",
       "```\n",
       "\n",
       "---\n",
       "\n",
       "```\n",
       "read(filename::AbstractString, args...)\n",
       "```\n",
       "\n",
       "Open a file and read its contents. `args` is passed to `read`: this is equivalent to `open(io->read(io, args...), filename)`.\n",
       "\n",
       "```\n",
       "read(filename::AbstractString, String)\n",
       "```\n",
       "\n",
       "Read the entire contents of a file as a string.\n",
       "\n",
       "---\n",
       "\n",
       "```\n",
       "read(s::IO, nb=typemax(Int))\n",
       "```\n",
       "\n",
       "Read at most `nb` bytes from `s`, returning a `Vector{UInt8}` of the bytes read.\n",
       "\n",
       "---\n",
       "\n",
       "```\n",
       "read(s::IOStream, nb::Integer; all=true)\n",
       "```\n",
       "\n",
       "Read at most `nb` bytes from `s`, returning a `Vector{UInt8}` of the bytes read.\n",
       "\n",
       "If `all` is `true` (the default), this function will block repeatedly trying to read all requested bytes, until an error or end-of-file occurs. If `all` is `false`, at most one `read` call is performed, and the amount of data returned is device-dependent. Note that not all stream types support the `all` option.\n",
       "\n",
       "---\n",
       "\n",
       "```\n",
       "read(command::Cmd)\n",
       "```\n",
       "\n",
       "Run `command` and return the resulting output as an array of bytes.\n",
       "\n",
       "---\n",
       "\n",
       "```\n",
       "read(command::Cmd, String)\n",
       "```\n",
       "\n",
       "Run `command` and return the resulting output as a `String`.\n"
      ],
      "text/plain": [
       "\u001b[36m  read(io::IO, T)\u001b[39m\n",
       "\n",
       "  Read a single value of type \u001b[36mT\u001b[39m from \u001b[36mio\u001b[39m, in canonical binary representation.\n",
       "\n",
       "\u001b[36m  read(io::IO, String)\u001b[39m\n",
       "\n",
       "  Read the entirety of \u001b[36mio\u001b[39m, as a \u001b[36mString\u001b[39m.\n",
       "\n",
       "\u001b[1m  Examples\u001b[22m\n",
       "\u001b[1m  ≡≡≡≡≡≡≡≡≡≡\u001b[22m\n",
       "\n",
       "\u001b[36m  julia> io = IOBuffer(\"JuliaLang is a GitHub organization\");\u001b[39m\n",
       "\u001b[36m  \u001b[39m\n",
       "\u001b[36m  julia> read(io, Char)\u001b[39m\n",
       "\u001b[36m  'J': ASCII/Unicode U+004A (category Lu: Letter, uppercase)\u001b[39m\n",
       "\u001b[36m  \u001b[39m\n",
       "\u001b[36m  julia> io = IOBuffer(\"JuliaLang is a GitHub organization\");\u001b[39m\n",
       "\u001b[36m  \u001b[39m\n",
       "\u001b[36m  julia> read(io, String)\u001b[39m\n",
       "\u001b[36m  \"JuliaLang is a GitHub organization\"\u001b[39m\n",
       "\n",
       "  ────────────────────────────────────────────────────────────────────────────\n",
       "\n",
       "\u001b[36m  read(filename::AbstractString, args...)\u001b[39m\n",
       "\n",
       "  Open a file and read its contents. \u001b[36margs\u001b[39m is passed to \u001b[36mread\u001b[39m: this is\n",
       "  equivalent to \u001b[36mopen(io->read(io, args...), filename)\u001b[39m.\n",
       "\n",
       "\u001b[36m  read(filename::AbstractString, String)\u001b[39m\n",
       "\n",
       "  Read the entire contents of a file as a string.\n",
       "\n",
       "  ────────────────────────────────────────────────────────────────────────────\n",
       "\n",
       "\u001b[36m  read(s::IO, nb=typemax(Int))\u001b[39m\n",
       "\n",
       "  Read at most \u001b[36mnb\u001b[39m bytes from \u001b[36ms\u001b[39m, returning a \u001b[36mVector{UInt8}\u001b[39m of the bytes read.\n",
       "\n",
       "  ────────────────────────────────────────────────────────────────────────────\n",
       "\n",
       "\u001b[36m  read(s::IOStream, nb::Integer; all=true)\u001b[39m\n",
       "\n",
       "  Read at most \u001b[36mnb\u001b[39m bytes from \u001b[36ms\u001b[39m, returning a \u001b[36mVector{UInt8}\u001b[39m of the bytes read.\n",
       "\n",
       "  If \u001b[36mall\u001b[39m is \u001b[36mtrue\u001b[39m (the default), this function will block repeatedly trying to\n",
       "  read all requested bytes, until an error or end-of-file occurs. If \u001b[36mall\u001b[39m is\n",
       "  \u001b[36mfalse\u001b[39m, at most one \u001b[36mread\u001b[39m call is performed, and the amount of data returned\n",
       "  is device-dependent. Note that not all stream types support the \u001b[36mall\u001b[39m option.\n",
       "\n",
       "  ────────────────────────────────────────────────────────────────────────────\n",
       "\n",
       "\u001b[36m  read(command::Cmd)\u001b[39m\n",
       "\n",
       "  Run \u001b[36mcommand\u001b[39m and return the resulting output as an array of bytes.\n",
       "\n",
       "  ────────────────────────────────────────────────────────────────────────────\n",
       "\n",
       "\u001b[36m  read(command::Cmd, String)\u001b[39m\n",
       "\n",
       "  Run \u001b[36mcommand\u001b[39m and return the resulting output as a \u001b[36mString\u001b[39m."
      ]
     },
     "execution_count": 2,
     "metadata": {},
     "output_type": "execute_result"
    }
   ],
   "source": [
    "?read"
   ]
  },
  {
   "cell_type": "code",
   "execution_count": 5,
   "metadata": {},
   "outputs": [
    {
     "data": {
      "text/plain": [
       "\"# Atomic Num\\tName\\t\\tSymbol\\tAtomic mass\""
      ]
     },
     "execution_count": 5,
     "metadata": {},
     "output_type": "execute_result"
    }
   ],
   "source": [
    "s = readline(\"elements.txt\")"
   ]
  },
  {
   "cell_type": "code",
   "execution_count": 6,
   "metadata": {},
   "outputs": [
    {
     "data": {
      "text/plain": [
       "5-element Array{String,1}:\n",
       " \"# Atomic Num\\tName\\t\\tSymbol\\tAtomic mass\"\n",
       " \"1\\t\\tHydrogen\\tH\\t1.007825\"\n",
       " \"2\\t\\tHelium\\t\\tHe\\t4.00260\"\n",
       " \"3\\t\\tLithium\\t\\tLi\\t6.941\"\n",
       " \"4\\t\\tBeryllium\\tBe\\t9.01218\""
      ]
     },
     "execution_count": 6,
     "metadata": {},
     "output_type": "execute_result"
    }
   ],
   "source": [
    "s = readlines(\"elements.txt\")"
   ]
  },
  {
   "cell_type": "code",
   "execution_count": 7,
   "metadata": {},
   "outputs": [
    {
     "name": "stdout",
     "output_type": "stream",
     "text": [
      "[\"# Atomic Num\\tName\\t\\tSymbol\\tAtomic mass\", \"1\\t\\tHydrogen\\tH\\t1.007825\", \"2\\t\\tHelium\\t\\tHe\\t4.00260\", \"3\\t\\tLithium\\t\\tLi\\t6.941\", \"4\\t\\tBeryllium\\tBe\\t9.01218\"]\n"
     ]
    }
   ],
   "source": [
    "println(s)"
   ]
  },
  {
   "cell_type": "code",
   "execution_count": 8,
   "metadata": {},
   "outputs": [
    {
     "data": {
      "text/plain": [
       "Array{String,1}"
      ]
     },
     "execution_count": 8,
     "metadata": {},
     "output_type": "execute_result"
    }
   ],
   "source": [
    "typeof(s)"
   ]
  },
  {
   "cell_type": "code",
   "execution_count": 9,
   "metadata": {},
   "outputs": [
    {
     "data": {
      "text/plain": [
       "UnionAll"
      ]
     },
     "execution_count": 9,
     "metadata": {},
     "output_type": "execute_result"
    }
   ],
   "source": [
    "typeof(Array)"
   ]
  },
  {
   "cell_type": "code",
   "execution_count": 10,
   "metadata": {},
   "outputs": [
    {
     "data": {
      "text/plain": [
       "IOStream(<file elements.txt>)"
      ]
     },
     "execution_count": 10,
     "metadata": {},
     "output_type": "execute_result"
    }
   ],
   "source": [
    "stream = open(\"elements.txt\", \"r\")"
   ]
  },
  {
   "cell_type": "code",
   "execution_count": 11,
   "metadata": {},
   "outputs": [
    {
     "data": {
      "text/plain": [
       "DataType"
      ]
     },
     "execution_count": 11,
     "metadata": {},
     "output_type": "execute_result"
    }
   ],
   "source": [
    "typeof(IOStream)"
   ]
  },
  {
   "cell_type": "code",
   "execution_count": 12,
   "metadata": {},
   "outputs": [
    {
     "data": {
      "text/plain": [
       "IO"
      ]
     },
     "execution_count": 12,
     "metadata": {},
     "output_type": "execute_result"
    }
   ],
   "source": [
    "supertype(IOStream)"
   ]
  },
  {
   "cell_type": "code",
   "execution_count": 13,
   "metadata": {},
   "outputs": [
    {
     "data": {
      "text/plain": [
       "Any"
      ]
     },
     "execution_count": 13,
     "metadata": {},
     "output_type": "execute_result"
    }
   ],
   "source": [
    "supertype(IO)"
   ]
  },
  {
   "cell_type": "code",
   "execution_count": 19,
   "metadata": {},
   "outputs": [
    {
     "data": {
      "text/plain": [
       "false"
      ]
     },
     "execution_count": 19,
     "metadata": {},
     "output_type": "execute_result"
    }
   ],
   "source": [
    "eof(stream)"
   ]
  },
  {
   "cell_type": "code",
   "execution_count": 20,
   "metadata": {},
   "outputs": [
    {
     "data": {
      "text/plain": [
       "0"
      ]
     },
     "execution_count": 20,
     "metadata": {},
     "output_type": "execute_result"
    }
   ],
   "source": [
    "position(stream)"
   ]
  },
  {
   "cell_type": "code",
   "execution_count": 21,
   "metadata": {},
   "outputs": [
    {
     "data": {
      "text/plain": [
       "'#': ASCII/Unicode U+0023 (category Po: Punctuation, other)"
      ]
     },
     "execution_count": 21,
     "metadata": {},
     "output_type": "execute_result"
    }
   ],
   "source": [
    "read(stream, Char)"
   ]
  },
  {
   "cell_type": "code",
   "execution_count": 22,
   "metadata": {},
   "outputs": [
    {
     "data": {
      "text/plain": [
       "\" Atomic Num\\tName\\t\\tSymbol\\tAtomic mass\""
      ]
     },
     "execution_count": 22,
     "metadata": {},
     "output_type": "execute_result"
    }
   ],
   "source": [
    "readline(stream)"
   ]
  },
  {
   "cell_type": "code",
   "execution_count": 24,
   "metadata": {},
   "outputs": [
    {
     "data": {
      "text/plain": [
       "38"
      ]
     },
     "execution_count": 24,
     "metadata": {},
     "output_type": "execute_result"
    }
   ],
   "source": [
    "position(stream)"
   ]
  },
  {
   "cell_type": "code",
   "execution_count": 27,
   "metadata": {},
   "outputs": [
    {
     "data": {
      "text/plain": [
       "49"
      ]
     },
     "execution_count": 27,
     "metadata": {},
     "output_type": "execute_result"
    }
   ],
   "source": [
    "read(stream, Int8)"
   ]
  },
  {
   "cell_type": "code",
   "execution_count": 26,
   "metadata": {},
   "outputs": [
    {
     "data": {
      "text/plain": [
       "'3': ASCII/Unicode U+0033 (category Nd: Number, decimal digit)"
      ]
     },
     "execution_count": 26,
     "metadata": {},
     "output_type": "execute_result"
    }
   ],
   "source": [
    "Char(51)"
   ]
  },
  {
   "cell_type": "code",
   "execution_count": 29,
   "metadata": {},
   "outputs": [
    {
     "data": {
      "text/plain": [
       "false"
      ]
     },
     "execution_count": 29,
     "metadata": {},
     "output_type": "execute_result"
    }
   ],
   "source": [
    "eof(stream) # is it the end of the file?"
   ]
  },
  {
   "cell_type": "code",
   "execution_count": 30,
   "metadata": {},
   "outputs": [
    {
     "data": {
      "text/plain": [
       "4-element Array{String,1}:\n",
       " \"\\t\\tHydrogen\\tH\\t1.007825\"\n",
       " \"2\\t\\tHelium\\t\\tHe\\t4.00260\"\n",
       " \"3\\t\\tLithium\\t\\tLi\\t6.941\"\n",
       " \"4\\t\\tBeryllium\\tBe\\t9.01218\""
      ]
     },
     "execution_count": 30,
     "metadata": {},
     "output_type": "execute_result"
    }
   ],
   "source": [
    "readlines(stream)"
   ]
  },
  {
   "cell_type": "code",
   "execution_count": 31,
   "metadata": {},
   "outputs": [
    {
     "data": {
      "text/plain": [
       "true"
      ]
     },
     "execution_count": 31,
     "metadata": {},
     "output_type": "execute_result"
    }
   ],
   "source": [
    "eof(stream)"
   ]
  },
  {
   "cell_type": "code",
   "execution_count": 33,
   "metadata": {},
   "outputs": [],
   "source": [
    "close(stream) # remember to close the file"
   ]
  },
  {
   "cell_type": "code",
   "execution_count": 34,
   "metadata": {
    "scrolled": false
   },
   "outputs": [
    {
     "name": "stdout",
     "output_type": "stream",
     "text": [
      "search: \u001b[0m\u001b[1mo\u001b[22m\u001b[0m\u001b[1mp\u001b[22m\u001b[0m\u001b[1me\u001b[22m\u001b[0m\u001b[1mn\u001b[22m is\u001b[0m\u001b[1mo\u001b[22m\u001b[0m\u001b[1mp\u001b[22m\u001b[0m\u001b[1me\u001b[22m\u001b[0m\u001b[1mn\u001b[22m pr\u001b[0m\u001b[1mo\u001b[22m\u001b[0m\u001b[1mp\u001b[22m\u001b[0m\u001b[1me\u001b[22mrty\u001b[0m\u001b[1mn\u001b[22mames C\u001b[0m\u001b[1mo\u001b[22mm\u001b[0m\u001b[1mp\u001b[22mosit\u001b[0m\u001b[1me\u001b[22mExceptio\u001b[0m\u001b[1mn\u001b[22m \u001b[0m\u001b[1mo\u001b[22m\u001b[0m\u001b[1mp\u001b[22m\u001b[0m\u001b[1me\u001b[22mrm haspr\u001b[0m\u001b[1mo\u001b[22m\u001b[0m\u001b[1mp\u001b[22m\u001b[0m\u001b[1me\u001b[22mrty\n",
      "\n"
     ]
    },
    {
     "data": {
      "text/latex": [
       "\\begin{verbatim}\n",
       "open(f::Function, args...; kwargs....)\n",
       "\\end{verbatim}\n",
       "Apply the function \\texttt{f} to the result of \\texttt{open(args...; kwargs...)} and close the resulting file descriptor upon completion.\n",
       "\n",
       "\\section{Examples}\n",
       "\\begin{verbatim}\n",
       "julia> open(\"myfile.txt\", \"w\") do io\n",
       "           write(io, \"Hello world!\")\n",
       "       end;\n",
       "\n",
       "julia> open(f->read(f, String), \"myfile.txt\")\n",
       "\"Hello world!\"\n",
       "\n",
       "julia> rm(\"myfile.txt\")\n",
       "\\end{verbatim}\n",
       "\\rule{\\textwidth}{1pt}\n",
       "\\begin{verbatim}\n",
       "open(filename::AbstractString; keywords...) -> IOStream\n",
       "\\end{verbatim}\n",
       "Open a file in a mode specified by five boolean keyword arguments:\n",
       "\n",
       "\\begin{tabular}\n",
       "{l | l | l}\n",
       "Keyword & Description & Default \\\\\n",
       "\\hline\n",
       "\\texttt{read} & open for reading & \\texttt{!write} \\\\\n",
       "\\texttt{write} & open for writing & \\texttt{truncate | append} \\\\\n",
       "\\texttt{create} & create if non-existent & \\texttt{!read \\& write | truncate | append} \\\\\n",
       "\\texttt{truncate} & truncate to zero size & \\texttt{!read \\& write} \\\\\n",
       "\\texttt{append} & seek to end & \\texttt{false} \\\\\n",
       "\\end{tabular}\n",
       "The default when no keywords are passed is to open files for reading only. Returns a stream for accessing the opened file.\n",
       "\n",
       "\\rule{\\textwidth}{1pt}\n",
       "\\begin{verbatim}\n",
       "open(filename::AbstractString, [mode::AbstractString]) -> IOStream\n",
       "\\end{verbatim}\n",
       "Alternate syntax for open, where a string-based mode specifier is used instead of the five booleans. The values of \\texttt{mode} correspond to those from \\texttt{fopen(3)} or Perl \\texttt{open}, and are equivalent to setting the following boolean groups:\n",
       "\n",
       "\\begin{tabular}\n",
       "{l | l | l}\n",
       "Mode & Description & Keywords \\\\\n",
       "\\hline\n",
       "\\texttt{r} & read & none \\\\\n",
       "\\texttt{w} & write, create, truncate & \\texttt{write = true} \\\\\n",
       "\\texttt{a} & write, create, append & \\texttt{append = true} \\\\\n",
       "\\texttt{r+} & read, write & \\texttt{read = true, write = true} \\\\\n",
       "\\texttt{w+} & read, write, create, truncate & \\texttt{truncate = true, read = true} \\\\\n",
       "\\texttt{a+} & read, write, create, append & \\texttt{append = true, read = true} \\\\\n",
       "\\end{tabular}\n",
       "\\section{Examples}\n",
       "\\begin{verbatim}\n",
       "julia> io = open(\"myfile.txt\", \"w\");\n",
       "\n",
       "julia> write(io, \"Hello world!\");\n",
       "\n",
       "julia> close(io);\n",
       "\n",
       "julia> io = open(\"myfile.txt\", \"r\");\n",
       "\n",
       "julia> read(io, String)\n",
       "\"Hello world!\"\n",
       "\n",
       "julia> write(io, \"This file is read only\")\n",
       "ERROR: ArgumentError: write failed, IOStream is not writeable\n",
       "[...]\n",
       "\n",
       "julia> close(io)\n",
       "\n",
       "julia> io = open(\"myfile.txt\", \"a\");\n",
       "\n",
       "julia> write(io, \"This stream is not read only\")\n",
       "28\n",
       "\n",
       "julia> close(io)\n",
       "\n",
       "julia> rm(\"myfile.txt\")\n",
       "\\end{verbatim}\n",
       "\\rule{\\textwidth}{1pt}\n",
       "\\begin{verbatim}\n",
       "open(fd::OS_HANDLE) -> IO\n",
       "\\end{verbatim}\n",
       "Take a raw file descriptor wrap it in a Julia-aware IO type, and take ownership of the fd handle. Call \\texttt{open(Libc.dup(fd))} to avoid the ownership capture of the original handle.\n",
       "\n",
       "\\begin{quote}\n",
       "\\textbf{warn}\n",
       "\n",
       "Warn\n",
       "\n",
       "Do not call this on a handle that's already owned by some other part of the system.\n",
       "\n",
       "\\end{quote}\n",
       "\\rule{\\textwidth}{1pt}\n",
       "\\begin{verbatim}\n",
       "open(command, mode::AbstractString, stdio=devnull)\n",
       "\\end{verbatim}\n",
       "Run \\texttt{command} asynchronously. Like \\texttt{open(command, stdio; read, write)} except specifying the read and write flags via a mode string instead of keyword arguments. Possible mode strings are:\n",
       "\n",
       "\\begin{tabular}\n",
       "{l | l | l}\n",
       "Mode & Description & Keywords \\\\\n",
       "\\hline\n",
       "\\texttt{r} & read & none \\\\\n",
       "\\texttt{w} & write & \\texttt{write = true} \\\\\n",
       "\\texttt{r+} & read, write & \\texttt{read = true, write = true} \\\\\n",
       "\\texttt{w+} & read, write & \\texttt{read = true, write = true} \\\\\n",
       "\\end{tabular}\n",
       "\\rule{\\textwidth}{1pt}\n",
       "\\begin{verbatim}\n",
       "open(command, stdio=devnull; write::Bool = false, read::Bool = !write)\n",
       "\\end{verbatim}\n",
       "Start running \\texttt{command} asynchronously, and return a \\texttt{process::IO} object.  If \\texttt{read} is true, then reads from the process come from the process's standard output and \\texttt{stdio} optionally specifies the process's standard input stream.  If \\texttt{write} is true, then writes go to the process's standard input and \\texttt{stdio} optionally specifies the process's standard output stream. The process's standard error stream is connected to the current global \\texttt{stderr}.\n",
       "\n",
       "\\rule{\\textwidth}{1pt}\n",
       "\\begin{verbatim}\n",
       "open(f::Function, command, args...; kwargs...)\n",
       "\\end{verbatim}\n",
       "Similar to \\texttt{open(command, args...; kwargs...)}, but calls \\texttt{f(stream)} on the resulting process stream, then closes the input stream and waits for the process to complete. Returns the value returned by \\texttt{f}.\n",
       "\n"
      ],
      "text/markdown": [
       "```\n",
       "open(f::Function, args...; kwargs....)\n",
       "```\n",
       "\n",
       "Apply the function `f` to the result of `open(args...; kwargs...)` and close the resulting file descriptor upon completion.\n",
       "\n",
       "# Examples\n",
       "\n",
       "```jldoctest\n",
       "julia> open(\"myfile.txt\", \"w\") do io\n",
       "           write(io, \"Hello world!\")\n",
       "       end;\n",
       "\n",
       "julia> open(f->read(f, String), \"myfile.txt\")\n",
       "\"Hello world!\"\n",
       "\n",
       "julia> rm(\"myfile.txt\")\n",
       "```\n",
       "\n",
       "---\n",
       "\n",
       "```\n",
       "open(filename::AbstractString; keywords...) -> IOStream\n",
       "```\n",
       "\n",
       "Open a file in a mode specified by five boolean keyword arguments:\n",
       "\n",
       "| Keyword    | Description            | Default                               |\n",
       "|:---------- |:---------------------- |:------------------------------------- |\n",
       "| `read`     | open for reading       | `!write`                              |\n",
       "| `write`    | open for writing       | `truncate \\| append`                  |\n",
       "| `create`   | create if non-existent | `!read & write \\| truncate \\| append` |\n",
       "| `truncate` | truncate to zero size  | `!read & write`                       |\n",
       "| `append`   | seek to end            | `false`                               |\n",
       "\n",
       "The default when no keywords are passed is to open files for reading only. Returns a stream for accessing the opened file.\n",
       "\n",
       "---\n",
       "\n",
       "```\n",
       "open(filename::AbstractString, [mode::AbstractString]) -> IOStream\n",
       "```\n",
       "\n",
       "Alternate syntax for open, where a string-based mode specifier is used instead of the five booleans. The values of `mode` correspond to those from `fopen(3)` or Perl `open`, and are equivalent to setting the following boolean groups:\n",
       "\n",
       "| Mode | Description                   | Keywords                       |\n",
       "|:---- |:----------------------------- |:------------------------------ |\n",
       "| `r`  | read                          | none                           |\n",
       "| `w`  | write, create, truncate       | `write = true`                 |\n",
       "| `a`  | write, create, append         | `append = true`                |\n",
       "| `r+` | read, write                   | `read = true, write = true`    |\n",
       "| `w+` | read, write, create, truncate | `truncate = true, read = true` |\n",
       "| `a+` | read, write, create, append   | `append = true, read = true`   |\n",
       "\n",
       "# Examples\n",
       "\n",
       "```jldoctest\n",
       "julia> io = open(\"myfile.txt\", \"w\");\n",
       "\n",
       "julia> write(io, \"Hello world!\");\n",
       "\n",
       "julia> close(io);\n",
       "\n",
       "julia> io = open(\"myfile.txt\", \"r\");\n",
       "\n",
       "julia> read(io, String)\n",
       "\"Hello world!\"\n",
       "\n",
       "julia> write(io, \"This file is read only\")\n",
       "ERROR: ArgumentError: write failed, IOStream is not writeable\n",
       "[...]\n",
       "\n",
       "julia> close(io)\n",
       "\n",
       "julia> io = open(\"myfile.txt\", \"a\");\n",
       "\n",
       "julia> write(io, \"This stream is not read only\")\n",
       "28\n",
       "\n",
       "julia> close(io)\n",
       "\n",
       "julia> rm(\"myfile.txt\")\n",
       "```\n",
       "\n",
       "---\n",
       "\n",
       "```\n",
       "open(fd::OS_HANDLE) -> IO\n",
       "```\n",
       "\n",
       "Take a raw file descriptor wrap it in a Julia-aware IO type, and take ownership of the fd handle. Call `open(Libc.dup(fd))` to avoid the ownership capture of the original handle.\n",
       "\n",
       "!!! warn\n",
       "    Do not call this on a handle that's already owned by some other part of the system.\n",
       "\n",
       "\n",
       "---\n",
       "\n",
       "```\n",
       "open(command, mode::AbstractString, stdio=devnull)\n",
       "```\n",
       "\n",
       "Run `command` asynchronously. Like `open(command, stdio; read, write)` except specifying the read and write flags via a mode string instead of keyword arguments. Possible mode strings are:\n",
       "\n",
       "| Mode | Description | Keywords                    |\n",
       "|:---- |:----------- |:--------------------------- |\n",
       "| `r`  | read        | none                        |\n",
       "| `w`  | write       | `write = true`              |\n",
       "| `r+` | read, write | `read = true, write = true` |\n",
       "| `w+` | read, write | `read = true, write = true` |\n",
       "\n",
       "---\n",
       "\n",
       "```\n",
       "open(command, stdio=devnull; write::Bool = false, read::Bool = !write)\n",
       "```\n",
       "\n",
       "Start running `command` asynchronously, and return a `process::IO` object.  If `read` is true, then reads from the process come from the process's standard output and `stdio` optionally specifies the process's standard input stream.  If `write` is true, then writes go to the process's standard input and `stdio` optionally specifies the process's standard output stream. The process's standard error stream is connected to the current global `stderr`.\n",
       "\n",
       "---\n",
       "\n",
       "```\n",
       "open(f::Function, command, args...; kwargs...)\n",
       "```\n",
       "\n",
       "Similar to `open(command, args...; kwargs...)`, but calls `f(stream)` on the resulting process stream, then closes the input stream and waits for the process to complete. Returns the value returned by `f`.\n"
      ],
      "text/plain": [
       "\u001b[36m  open(f::Function, args...; kwargs....)\u001b[39m\n",
       "\n",
       "  Apply the function \u001b[36mf\u001b[39m to the result of \u001b[36mopen(args...; kwargs...)\u001b[39m and close the\n",
       "  resulting file descriptor upon completion.\n",
       "\n",
       "\u001b[1m  Examples\u001b[22m\n",
       "\u001b[1m  ≡≡≡≡≡≡≡≡≡≡\u001b[22m\n",
       "\n",
       "\u001b[36m  julia> open(\"myfile.txt\", \"w\") do io\u001b[39m\n",
       "\u001b[36m             write(io, \"Hello world!\")\u001b[39m\n",
       "\u001b[36m         end;\u001b[39m\n",
       "\u001b[36m  \u001b[39m\n",
       "\u001b[36m  julia> open(f->read(f, String), \"myfile.txt\")\u001b[39m\n",
       "\u001b[36m  \"Hello world!\"\u001b[39m\n",
       "\u001b[36m  \u001b[39m\n",
       "\u001b[36m  julia> rm(\"myfile.txt\")\u001b[39m\n",
       "\n",
       "  ────────────────────────────────────────────────────────────────────────────\n",
       "\n",
       "\u001b[36m  open(filename::AbstractString; keywords...) -> IOStream\u001b[39m\n",
       "\n",
       "  Open a file in a mode specified by five boolean keyword arguments:\n",
       "\n",
       "  Keyword  Description            Default                          \n",
       "  –––––––– –––––––––––––––––––––– –––––––––––––––––––––––––––––––––\n",
       "  \u001b[36mread\u001b[39m     open for reading       \u001b[36m!write\u001b[39m                           \n",
       "  \u001b[36mwrite\u001b[39m    open for writing       \u001b[36mtruncate | append\u001b[39m                \n",
       "  \u001b[36mcreate\u001b[39m   create if non-existent \u001b[36m!read & write | truncate | append\u001b[39m\n",
       "  \u001b[36mtruncate\u001b[39m truncate to zero size  \u001b[36m!read & write\u001b[39m                    \n",
       "  \u001b[36mappend\u001b[39m   seek to end            \u001b[36mfalse\u001b[39m                            \n",
       "\n",
       "  The default when no keywords are passed is to open files for reading only.\n",
       "  Returns a stream for accessing the opened file.\n",
       "\n",
       "  ────────────────────────────────────────────────────────────────────────────\n",
       "\n",
       "\u001b[36m  open(filename::AbstractString, [mode::AbstractString]) -> IOStream\u001b[39m\n",
       "\n",
       "  Alternate syntax for open, where a string-based mode specifier is used\n",
       "  instead of the five booleans. The values of \u001b[36mmode\u001b[39m correspond to those from\n",
       "  \u001b[36mfopen(3)\u001b[39m or Perl \u001b[36mopen\u001b[39m, and are equivalent to setting the following boolean\n",
       "  groups:\n",
       "\n",
       "  Mode Description                   Keywords                    \n",
       "  –––– ––––––––––––––––––––––––––––– ––––––––––––––––––––––––––––\n",
       "  \u001b[36mr\u001b[39m    read                          none                        \n",
       "  \u001b[36mw\u001b[39m    write, create, truncate       \u001b[36mwrite = true\u001b[39m                \n",
       "  \u001b[36ma\u001b[39m    write, create, append         \u001b[36mappend = true\u001b[39m               \n",
       "  \u001b[36mr+\u001b[39m   read, write                   \u001b[36mread = true, write = true\u001b[39m   \n",
       "  \u001b[36mw+\u001b[39m   read, write, create, truncate \u001b[36mtruncate = true, read = true\u001b[39m\n",
       "  \u001b[36ma+\u001b[39m   read, write, create, append   \u001b[36mappend = true, read = true\u001b[39m  \n",
       "\n",
       "\u001b[1m  Examples\u001b[22m\n",
       "\u001b[1m  ≡≡≡≡≡≡≡≡≡≡\u001b[22m\n",
       "\n",
       "\u001b[36m  julia> io = open(\"myfile.txt\", \"w\");\u001b[39m\n",
       "\u001b[36m  \u001b[39m\n",
       "\u001b[36m  julia> write(io, \"Hello world!\");\u001b[39m\n",
       "\u001b[36m  \u001b[39m\n",
       "\u001b[36m  julia> close(io);\u001b[39m\n",
       "\u001b[36m  \u001b[39m\n",
       "\u001b[36m  julia> io = open(\"myfile.txt\", \"r\");\u001b[39m\n",
       "\u001b[36m  \u001b[39m\n",
       "\u001b[36m  julia> read(io, String)\u001b[39m\n",
       "\u001b[36m  \"Hello world!\"\u001b[39m\n",
       "\u001b[36m  \u001b[39m\n",
       "\u001b[36m  julia> write(io, \"This file is read only\")\u001b[39m\n",
       "\u001b[36m  ERROR: ArgumentError: write failed, IOStream is not writeable\u001b[39m\n",
       "\u001b[36m  [...]\u001b[39m\n",
       "\u001b[36m  \u001b[39m\n",
       "\u001b[36m  julia> close(io)\u001b[39m\n",
       "\u001b[36m  \u001b[39m\n",
       "\u001b[36m  julia> io = open(\"myfile.txt\", \"a\");\u001b[39m\n",
       "\u001b[36m  \u001b[39m\n",
       "\u001b[36m  julia> write(io, \"This stream is not read only\")\u001b[39m\n",
       "\u001b[36m  28\u001b[39m\n",
       "\u001b[36m  \u001b[39m\n",
       "\u001b[36m  julia> close(io)\u001b[39m\n",
       "\u001b[36m  \u001b[39m\n",
       "\u001b[36m  julia> rm(\"myfile.txt\")\u001b[39m\n",
       "\n",
       "  ────────────────────────────────────────────────────────────────────────────\n",
       "\n",
       "\u001b[36m  open(fd::OS_HANDLE) -> IO\u001b[39m\n",
       "\n",
       "  Take a raw file descriptor wrap it in a Julia-aware IO type, and take\n",
       "  ownership of the fd handle. Call \u001b[36mopen(Libc.dup(fd))\u001b[39m to avoid the ownership\n",
       "  capture of the original handle.\n",
       "\n",
       "\u001b[39m\u001b[1m  │ \u001b[22m\u001b[39m\u001b[1mWarn\u001b[22m\n",
       "\u001b[39m\u001b[1m  │\u001b[22m\n",
       "\u001b[39m\u001b[1m  │\u001b[22m  Do not call this on a handle that's already owned by some other\n",
       "\u001b[39m\u001b[1m  │\u001b[22m  part of the system.\n",
       "\n",
       "  ────────────────────────────────────────────────────────────────────────────\n",
       "\n",
       "\u001b[36m  open(command, mode::AbstractString, stdio=devnull)\u001b[39m\n",
       "\n",
       "  Run \u001b[36mcommand\u001b[39m asynchronously. Like \u001b[36mopen(command, stdio; read, write)\u001b[39m except\n",
       "  specifying the read and write flags via a mode string instead of keyword\n",
       "  arguments. Possible mode strings are:\n",
       "\n",
       "  Mode Description Keywords                 \n",
       "  –––– ––––––––––– –––––––––––––––––––––––––\n",
       "  \u001b[36mr\u001b[39m    read        none                     \n",
       "  \u001b[36mw\u001b[39m    write       \u001b[36mwrite = true\u001b[39m             \n",
       "  \u001b[36mr+\u001b[39m   read, write \u001b[36mread = true, write = true\u001b[39m\n",
       "  \u001b[36mw+\u001b[39m   read, write \u001b[36mread = true, write = true\u001b[39m\n",
       "\n",
       "  ────────────────────────────────────────────────────────────────────────────\n",
       "\n",
       "\u001b[36m  open(command, stdio=devnull; write::Bool = false, read::Bool = !write)\u001b[39m\n",
       "\n",
       "  Start running \u001b[36mcommand\u001b[39m asynchronously, and return a \u001b[36mprocess::IO\u001b[39m object. If\n",
       "  \u001b[36mread\u001b[39m is true, then reads from the process come from the process's standard\n",
       "  output and \u001b[36mstdio\u001b[39m optionally specifies the process's standard input stream.\n",
       "  If \u001b[36mwrite\u001b[39m is true, then writes go to the process's standard input and \u001b[36mstdio\u001b[39m\n",
       "  optionally specifies the process's standard output stream. The process's\n",
       "  standard error stream is connected to the current global \u001b[36mstderr\u001b[39m.\n",
       "\n",
       "  ────────────────────────────────────────────────────────────────────────────\n",
       "\n",
       "\u001b[36m  open(f::Function, command, args...; kwargs...)\u001b[39m\n",
       "\n",
       "  Similar to \u001b[36mopen(command, args...; kwargs...)\u001b[39m, but calls \u001b[36mf(stream)\u001b[39m on the\n",
       "  resulting process stream, then closes the input stream and waits for the\n",
       "  process to complete. Returns the value returned by \u001b[36mf\u001b[39m."
      ]
     },
     "execution_count": 34,
     "metadata": {},
     "output_type": "execute_result"
    }
   ],
   "source": [
    "?open"
   ]
  },
  {
   "cell_type": "code",
   "execution_count": 35,
   "metadata": {},
   "outputs": [
    {
     "data": {
      "text/plain": [
       "\"# Atomic Num\\tName\\t\\tSymbol\\tAtomic mass\""
      ]
     },
     "execution_count": 35,
     "metadata": {},
     "output_type": "execute_result"
    }
   ],
   "source": [
    "open(readline, \"elements.txt\")"
   ]
  },
  {
   "cell_type": "code",
   "execution_count": 36,
   "metadata": {},
   "outputs": [
    {
     "data": {
      "text/plain": [
       "5-element Array{String,1}:\n",
       " \"# Atomic Num\\tName\\t\\tSymbol\\tAtomic mass\"\n",
       " \"1\\t\\tHydrogen\\tH\\t1.007825\"\n",
       " \"2\\t\\tHelium\\t\\tHe\\t4.00260\"\n",
       " \"3\\t\\tLithium\\t\\tLi\\t6.941\"\n",
       " \"4\\t\\tBeryllium\\tBe\\t9.01218\""
      ]
     },
     "execution_count": 36,
     "metadata": {},
     "output_type": "execute_result"
    }
   ],
   "source": [
    "open(readlines, \"elements.txt\")"
   ]
  },
  {
   "cell_type": "code",
   "execution_count": 38,
   "metadata": {},
   "outputs": [],
   "source": [
    "@edit readlines(\"elements.txt\") # edit macro"
   ]
  },
  {
   "cell_type": "code",
   "execution_count": 39,
   "metadata": {},
   "outputs": [
    {
     "data": {
      "text/plain": [
       "myread (generic function with 1 method)"
      ]
     },
     "execution_count": 39,
     "metadata": {},
     "output_type": "execute_result"
    }
   ],
   "source": [
    "myread(s::IOStream) = read(s, Char)"
   ]
  },
  {
   "cell_type": "code",
   "execution_count": 40,
   "metadata": {},
   "outputs": [
    {
     "data": {
      "text/plain": [
       "'#': ASCII/Unicode U+0023 (category Po: Punctuation, other)"
      ]
     },
     "execution_count": 40,
     "metadata": {},
     "output_type": "execute_result"
    }
   ],
   "source": [
    "open(myread, \"elements.txt\")"
   ]
  },
  {
   "cell_type": "code",
   "execution_count": 41,
   "metadata": {},
   "outputs": [],
   "source": [
    "@edit open(myread, \"elements.txt\")"
   ]
  },
  {
   "cell_type": "code",
   "execution_count": 42,
   "metadata": {},
   "outputs": [
    {
     "name": "stdout",
     "output_type": "stream",
     "text": [
      "# Atomic Num\tName\t\tSymbol\tAtomic mass1\t\tHydrogen\tH\t1.0078252\t\tHelium\t\tHe\t4.002603\t\tLithium\t\tLi\t6.9414\t\tBeryllium\tBe\t9.01218"
     ]
    }
   ],
   "source": [
    "open(\"elements.txt\") do stream  # do stream = function I'm passing in\n",
    "    for line in eachline(stream)\n",
    "        print(line)\n",
    "    end\n",
    "end"
   ]
  },
  {
   "cell_type": "code",
   "execution_count": 43,
   "metadata": {},
   "outputs": [
    {
     "data": {
      "text/plain": [
       "f (generic function with 1 method)"
      ]
     },
     "execution_count": 43,
     "metadata": {},
     "output_type": "execute_result"
    }
   ],
   "source": [
    "function f(stream)\n",
    "    for line in eachline(stream)\n",
    "        print(line)\n",
    "    end\n",
    "end"
   ]
  },
  {
   "cell_type": "code",
   "execution_count": 44,
   "metadata": {},
   "outputs": [
    {
     "name": "stdout",
     "output_type": "stream",
     "text": [
      "# Atomic Num\tName\t\tSymbol\tAtomic mass1\t\tHydrogen\tH\t1.0078252\t\tHelium\t\tHe\t4.002603\t\tLithium\t\tLi\t6.9414\t\tBeryllium\tBe\t9.01218"
     ]
    }
   ],
   "source": [
    "open(f, \"elements.txt\") # our own function is passed in"
   ]
  },
  {
   "cell_type": "code",
   "execution_count": 45,
   "metadata": {},
   "outputs": [
    {
     "name": "stdout",
     "output_type": "stream",
     "text": [
      "search: \u001b[0m\u001b[1me\u001b[22m\u001b[0m\u001b[1ma\u001b[22m\u001b[0m\u001b[1mc\u001b[22m\u001b[0m\u001b[1mh\u001b[22m\u001b[0m\u001b[1ml\u001b[22m\u001b[0m\u001b[1mi\u001b[22m\u001b[0m\u001b[1mn\u001b[22m\u001b[0m\u001b[1me\u001b[22m \u001b[0m\u001b[1me\u001b[22m\u001b[0m\u001b[1ma\u001b[22m\u001b[0m\u001b[1mc\u001b[22m\u001b[0m\u001b[1mh\u001b[22ms\u001b[0m\u001b[1ml\u001b[22m\u001b[0m\u001b[1mi\u001b[22mce\n",
      "\n"
     ]
    },
    {
     "data": {
      "text/latex": [
       "\\begin{verbatim}\n",
       "eachline(io::IO=stdin; keep::Bool=false)\n",
       "eachline(filename::AbstractString; keep::Bool=false)\n",
       "\\end{verbatim}\n",
       "Create an iterable \\texttt{EachLine} object that will yield each line from an I/O stream or a file. Iteration calls \\href{@ref}{\\texttt{readline}} on the stream argument repeatedly with \\texttt{keep} passed through, determining whether trailing end-of-line characters are retained. When called with a file name, the file is opened once at the beginning of iteration and closed at the end. If iteration is interrupted, the file will be closed when the \\texttt{EachLine} object is garbage collected.\n",
       "\n",
       "\\section{Examples}\n",
       "\\begin{verbatim}\n",
       "julia> open(\"my_file.txt\", \"w\") do io\n",
       "           write(io, \"JuliaLang is a GitHub organization.\\n It has many members.\\n\");\n",
       "       end;\n",
       "\n",
       "julia> for line in eachline(\"my_file.txt\")\n",
       "           print(line)\n",
       "       end\n",
       "JuliaLang is a GitHub organization. It has many members.\n",
       "\n",
       "julia> rm(\"my_file.txt\");\n",
       "\\end{verbatim}\n"
      ],
      "text/markdown": [
       "```\n",
       "eachline(io::IO=stdin; keep::Bool=false)\n",
       "eachline(filename::AbstractString; keep::Bool=false)\n",
       "```\n",
       "\n",
       "Create an iterable `EachLine` object that will yield each line from an I/O stream or a file. Iteration calls [`readline`](@ref) on the stream argument repeatedly with `keep` passed through, determining whether trailing end-of-line characters are retained. When called with a file name, the file is opened once at the beginning of iteration and closed at the end. If iteration is interrupted, the file will be closed when the `EachLine` object is garbage collected.\n",
       "\n",
       "# Examples\n",
       "\n",
       "```jldoctest\n",
       "julia> open(\"my_file.txt\", \"w\") do io\n",
       "           write(io, \"JuliaLang is a GitHub organization.\\n It has many members.\\n\");\n",
       "       end;\n",
       "\n",
       "julia> for line in eachline(\"my_file.txt\")\n",
       "           print(line)\n",
       "       end\n",
       "JuliaLang is a GitHub organization. It has many members.\n",
       "\n",
       "julia> rm(\"my_file.txt\");\n",
       "```\n"
      ],
      "text/plain": [
       "\u001b[36m  eachline(io::IO=stdin; keep::Bool=false)\u001b[39m\n",
       "\u001b[36m  eachline(filename::AbstractString; keep::Bool=false)\u001b[39m\n",
       "\n",
       "  Create an iterable \u001b[36mEachLine\u001b[39m object that will yield each line from an I/O\n",
       "  stream or a file. Iteration calls \u001b[36mreadline\u001b[39m on the stream argument repeatedly\n",
       "  with \u001b[36mkeep\u001b[39m passed through, determining whether trailing end-of-line\n",
       "  characters are retained. When called with a file name, the file is opened\n",
       "  once at the beginning of iteration and closed at the end. If iteration is\n",
       "  interrupted, the file will be closed when the \u001b[36mEachLine\u001b[39m object is garbage\n",
       "  collected.\n",
       "\n",
       "\u001b[1m  Examples\u001b[22m\n",
       "\u001b[1m  ≡≡≡≡≡≡≡≡≡≡\u001b[22m\n",
       "\n",
       "\u001b[36m  julia> open(\"my_file.txt\", \"w\") do io\u001b[39m\n",
       "\u001b[36m             write(io, \"JuliaLang is a GitHub organization.\\n It has many members.\\n\");\u001b[39m\n",
       "\u001b[36m         end;\u001b[39m\n",
       "\u001b[36m  \u001b[39m\n",
       "\u001b[36m  julia> for line in eachline(\"my_file.txt\")\u001b[39m\n",
       "\u001b[36m             print(line)\u001b[39m\n",
       "\u001b[36m         end\u001b[39m\n",
       "\u001b[36m  JuliaLang is a GitHub organization. It has many members.\u001b[39m\n",
       "\u001b[36m  \u001b[39m\n",
       "\u001b[36m  julia> rm(\"my_file.txt\");\u001b[39m"
      ]
     },
     "execution_count": 45,
     "metadata": {},
     "output_type": "execute_result"
    }
   ],
   "source": [
    "?eachline"
   ]
  },
  {
   "cell_type": "code",
   "execution_count": 46,
   "metadata": {},
   "outputs": [
    {
     "data": {
      "text/plain": [
       "11"
      ]
     },
     "execution_count": 46,
     "metadata": {},
     "output_type": "execute_result"
    }
   ],
   "source": [
    "write(\"foobar.txt\", \"Hello world\")"
   ]
  },
  {
   "cell_type": "code",
   "execution_count": 48,
   "metadata": {},
   "outputs": [
    {
     "data": {
      "text/plain": [
       "1-element Array{String,1}:\n",
       " \"Hello world\""
      ]
     },
     "execution_count": 48,
     "metadata": {},
     "output_type": "execute_result"
    }
   ],
   "source": [
    "open(readlines, \"foobar.txt\")"
   ]
  },
  {
   "cell_type": "code",
   "execution_count": 49,
   "metadata": {},
   "outputs": [
    {
     "data": {
      "text/plain": [
       "8"
      ]
     },
     "execution_count": 49,
     "metadata": {},
     "output_type": "execute_result"
    }
   ],
   "source": [
    "write(\"numbar.txt\", 42) # 42 gets parsed as ascii -> \"*\""
   ]
  },
  {
   "cell_type": "code",
   "execution_count": 50,
   "metadata": {},
   "outputs": [
    {
     "data": {
      "text/plain": [
       "1-element Array{String,1}:\n",
       " \"*\\0\\0\\0\\0\\0\\0\\0\""
      ]
     },
     "execution_count": 50,
     "metadata": {},
     "output_type": "execute_result"
    }
   ],
   "source": [
    "open(readlines, \"numbar.txt\")"
   ]
  },
  {
   "cell_type": "code",
   "execution_count": 51,
   "metadata": {},
   "outputs": [
    {
     "data": {
      "text/plain": [
       "2"
      ]
     },
     "execution_count": 51,
     "metadata": {},
     "output_type": "execute_result"
    }
   ],
   "source": [
    "write(\"numbar2.txt\", string(42))"
   ]
  },
  {
   "cell_type": "code",
   "execution_count": 55,
   "metadata": {},
   "outputs": [
    {
     "data": {
      "text/plain": [
       "1"
      ]
     },
     "execution_count": 55,
     "metadata": {},
     "output_type": "execute_result"
    }
   ],
   "source": [
    "open(\"alpha.txt\", \"w\") do io # overwrite\n",
    "    for ch in 'A':'Z'\n",
    "        write(io, ch)\n",
    "    end\n",
    "    write(io, \"\\n\")\n",
    "end"
   ]
  },
  {
   "cell_type": "code",
   "execution_count": 56,
   "metadata": {},
   "outputs": [
    {
     "data": {
      "text/plain": [
       "1"
      ]
     },
     "execution_count": 56,
     "metadata": {},
     "output_type": "execute_result"
    }
   ],
   "source": [
    "open(\"alpha.txt\", \"a\") do io # append\n",
    "    for ch in 'A':'Z'\n",
    "        write(io, ch)\n",
    "    end\n",
    "    write(io, \"\\n\")\n",
    "end"
   ]
  },
  {
   "cell_type": "code",
   "execution_count": 52,
   "metadata": {},
   "outputs": [
    {
     "data": {
      "text/plain": [
       "Char"
      ]
     },
     "execution_count": 52,
     "metadata": {},
     "output_type": "execute_result"
    }
   ],
   "source": [
    "typeof('A')"
   ]
  },
  {
   "cell_type": "code",
   "execution_count": 53,
   "metadata": {},
   "outputs": [
    {
     "data": {
      "text/plain": [
       "String"
      ]
     },
     "execution_count": 53,
     "metadata": {},
     "output_type": "execute_result"
    }
   ],
   "source": [
    "typeof(\"A\")"
   ]
  },
  {
   "cell_type": "code",
   "execution_count": 57,
   "metadata": {},
   "outputs": [
    {
     "ename": "UndefVarError",
     "evalue": "UndefVarError: STDIN not defined",
     "output_type": "error",
     "traceback": [
      "UndefVarError: STDIN not defined",
      "",
      "Stacktrace:",
      " [1] top-level scope at In[57]:1"
     ]
    }
   ],
   "source": [
    "STDIN"
   ]
  },
  {
   "cell_type": "code",
   "execution_count": null,
   "metadata": {},
   "outputs": [],
   "source": []
  }
 ],
 "metadata": {
  "kernelspec": {
   "display_name": "Julia 1.4.2",
   "language": "julia",
   "name": "julia-1.4"
  },
  "language_info": {
   "file_extension": ".jl",
   "mimetype": "application/julia",
   "name": "julia",
   "version": "1.4.2"
  }
 },
 "nbformat": 4,
 "nbformat_minor": 2
}
